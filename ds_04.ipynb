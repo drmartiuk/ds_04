{
 "cells": [
  {
   "cell_type": "markdown",
   "id": "95b8572c",
   "metadata": {},
   "source": [
    "# Проект: Машинное обучение в бизнесе"
   ]
  },
  {
   "cell_type": "markdown",
   "id": "3839322a",
   "metadata": {},
   "source": [
    "### Описание проекта\n",
    "\n",
    "\n",
    "Допустим, вы работаете в добывающей компании «ГлавРосГосНефть». Нужно решить, где бурить новую скважину. \n",
    "Шаги для выбора локации обычно такие:\n",
    "В избранном регионе собирают характеристики для скважин: качество нефти и объём её запасов;\n",
    "Строят модель для предсказания объёма запасов в новых скважинах;\n",
    "Выбирают скважины с самыми высокими оценками значений;\n",
    "Определяют регион с максимальной суммарной прибылью отобранных скважин.\n",
    "Вам предоставлены пробы нефти в трёх регионах. Характеристики для каждой скважины в регионе уже известны. Постройте модель для определения региона, где добыча принесёт наибольшую прибыль. Проанализируйте возможную прибыль и риски техникой Bootstrap."
   ]
  },
  {
   "cell_type": "markdown",
   "id": "b2188dd1",
   "metadata": {},
   "source": [
    "## Шаг 1. Загрузка и изучение данных"
   ]
  },
  {
   "cell_type": "markdown",
   "id": "f6391d0b",
   "metadata": {},
   "source": [
    "### Ипорт библиотек"
   ]
  },
  {
   "cell_type": "code",
   "execution_count": 1,
   "id": "cb0dafb7",
   "metadata": {},
   "outputs": [],
   "source": [
    "import pandas as pd\n",
    "import matplotlib.pyplot as plt\n",
    "import numpy as np\n",
    "\n",
    "from sklearn.linear_model import LinearRegression\n",
    "from sklearn.preprocessing import OneHotEncoder \n",
    "from sklearn.preprocessing import StandardScaler\n",
    "from sklearn.model_selection import train_test_split\n",
    "from sklearn.metrics import mean_squared_error"
   ]
  },
  {
   "cell_type": "markdown",
   "id": "eb7e86b7",
   "metadata": {},
   "source": [
    "\n",
    "\n",
    "<div class=\"alert alert-block alert-success\">\n",
    "<b>Успех:</b> Импорты  на месте\n",
    "</div>\n"
   ]
  },
  {
   "cell_type": "code",
   "execution_count": 2,
   "id": "6461a039",
   "metadata": {},
   "outputs": [],
   "source": [
    "gd0=pd.read_csv('https://code.s3.yandex.net/datasets/geo_data_0.csv',sep=',')\n",
    "gd1=pd.read_csv('https://code.s3.yandex.net/datasets/geo_data_1.csv',sep=',')\n",
    "gd2=pd.read_csv('https://code.s3.yandex.net/datasets/geo_data_2.csv',sep=',')"
   ]
  },
  {
   "cell_type": "code",
   "execution_count": 3,
   "id": "9772605c",
   "metadata": {},
   "outputs": [],
   "source": [
    "def dataset_info(dataset,name):\n",
    "    display(f'Анализ датафрейма {name}')\n",
    "    display(dataset.head(5))\n",
    "    display(f'Количество пустых ячеек:')\n",
    "    display(dataset.isnull().sum())\n",
    "    display(dataset.info())\n",
    "    display(f'Количество явных дубликатов в датасете:{dataset.duplicated().sum()}' )"
   ]
  },
  {
   "cell_type": "code",
   "execution_count": 4,
   "id": "d9b824de",
   "metadata": {
    "scrolled": false
   },
   "outputs": [
    {
     "data": {
      "text/plain": [
       "'Анализ датафрейма gd0'"
      ]
     },
     "metadata": {},
     "output_type": "display_data"
    },
    {
     "data": {
      "text/html": [
       "<div>\n",
       "<style scoped>\n",
       "    .dataframe tbody tr th:only-of-type {\n",
       "        vertical-align: middle;\n",
       "    }\n",
       "\n",
       "    .dataframe tbody tr th {\n",
       "        vertical-align: top;\n",
       "    }\n",
       "\n",
       "    .dataframe thead th {\n",
       "        text-align: right;\n",
       "    }\n",
       "</style>\n",
       "<table border=\"1\" class=\"dataframe\">\n",
       "  <thead>\n",
       "    <tr style=\"text-align: right;\">\n",
       "      <th></th>\n",
       "      <th>id</th>\n",
       "      <th>f0</th>\n",
       "      <th>f1</th>\n",
       "      <th>f2</th>\n",
       "      <th>product</th>\n",
       "    </tr>\n",
       "  </thead>\n",
       "  <tbody>\n",
       "    <tr>\n",
       "      <th>0</th>\n",
       "      <td>txEyH</td>\n",
       "      <td>0.705745</td>\n",
       "      <td>-0.497823</td>\n",
       "      <td>1.221170</td>\n",
       "      <td>105.280062</td>\n",
       "    </tr>\n",
       "    <tr>\n",
       "      <th>1</th>\n",
       "      <td>2acmU</td>\n",
       "      <td>1.334711</td>\n",
       "      <td>-0.340164</td>\n",
       "      <td>4.365080</td>\n",
       "      <td>73.037750</td>\n",
       "    </tr>\n",
       "    <tr>\n",
       "      <th>2</th>\n",
       "      <td>409Wp</td>\n",
       "      <td>1.022732</td>\n",
       "      <td>0.151990</td>\n",
       "      <td>1.419926</td>\n",
       "      <td>85.265647</td>\n",
       "    </tr>\n",
       "    <tr>\n",
       "      <th>3</th>\n",
       "      <td>iJLyR</td>\n",
       "      <td>-0.032172</td>\n",
       "      <td>0.139033</td>\n",
       "      <td>2.978566</td>\n",
       "      <td>168.620776</td>\n",
       "    </tr>\n",
       "    <tr>\n",
       "      <th>4</th>\n",
       "      <td>Xdl7t</td>\n",
       "      <td>1.988431</td>\n",
       "      <td>0.155413</td>\n",
       "      <td>4.751769</td>\n",
       "      <td>154.036647</td>\n",
       "    </tr>\n",
       "  </tbody>\n",
       "</table>\n",
       "</div>"
      ],
      "text/plain": [
       "      id        f0        f1        f2     product\n",
       "0  txEyH  0.705745 -0.497823  1.221170  105.280062\n",
       "1  2acmU  1.334711 -0.340164  4.365080   73.037750\n",
       "2  409Wp  1.022732  0.151990  1.419926   85.265647\n",
       "3  iJLyR -0.032172  0.139033  2.978566  168.620776\n",
       "4  Xdl7t  1.988431  0.155413  4.751769  154.036647"
      ]
     },
     "metadata": {},
     "output_type": "display_data"
    },
    {
     "data": {
      "text/plain": [
       "'Количество пустых ячеек:'"
      ]
     },
     "metadata": {},
     "output_type": "display_data"
    },
    {
     "data": {
      "text/plain": [
       "id         0\n",
       "f0         0\n",
       "f1         0\n",
       "f2         0\n",
       "product    0\n",
       "dtype: int64"
      ]
     },
     "metadata": {},
     "output_type": "display_data"
    },
    {
     "name": "stdout",
     "output_type": "stream",
     "text": [
      "<class 'pandas.core.frame.DataFrame'>\n",
      "RangeIndex: 100000 entries, 0 to 99999\n",
      "Data columns (total 5 columns):\n",
      " #   Column   Non-Null Count   Dtype  \n",
      "---  ------   --------------   -----  \n",
      " 0   id       100000 non-null  object \n",
      " 1   f0       100000 non-null  float64\n",
      " 2   f1       100000 non-null  float64\n",
      " 3   f2       100000 non-null  float64\n",
      " 4   product  100000 non-null  float64\n",
      "dtypes: float64(4), object(1)\n",
      "memory usage: 3.8+ MB\n"
     ]
    },
    {
     "data": {
      "text/plain": [
       "None"
      ]
     },
     "metadata": {},
     "output_type": "display_data"
    },
    {
     "data": {
      "text/plain": [
       "'Количество явных дубликатов в датасете:0'"
      ]
     },
     "metadata": {},
     "output_type": "display_data"
    },
    {
     "data": {
      "text/plain": [
       "'Анализ датафрейма gd1'"
      ]
     },
     "metadata": {},
     "output_type": "display_data"
    },
    {
     "data": {
      "text/html": [
       "<div>\n",
       "<style scoped>\n",
       "    .dataframe tbody tr th:only-of-type {\n",
       "        vertical-align: middle;\n",
       "    }\n",
       "\n",
       "    .dataframe tbody tr th {\n",
       "        vertical-align: top;\n",
       "    }\n",
       "\n",
       "    .dataframe thead th {\n",
       "        text-align: right;\n",
       "    }\n",
       "</style>\n",
       "<table border=\"1\" class=\"dataframe\">\n",
       "  <thead>\n",
       "    <tr style=\"text-align: right;\">\n",
       "      <th></th>\n",
       "      <th>id</th>\n",
       "      <th>f0</th>\n",
       "      <th>f1</th>\n",
       "      <th>f2</th>\n",
       "      <th>product</th>\n",
       "    </tr>\n",
       "  </thead>\n",
       "  <tbody>\n",
       "    <tr>\n",
       "      <th>0</th>\n",
       "      <td>kBEdx</td>\n",
       "      <td>-15.001348</td>\n",
       "      <td>-8.276000</td>\n",
       "      <td>-0.005876</td>\n",
       "      <td>3.179103</td>\n",
       "    </tr>\n",
       "    <tr>\n",
       "      <th>1</th>\n",
       "      <td>62mP7</td>\n",
       "      <td>14.272088</td>\n",
       "      <td>-3.475083</td>\n",
       "      <td>0.999183</td>\n",
       "      <td>26.953261</td>\n",
       "    </tr>\n",
       "    <tr>\n",
       "      <th>2</th>\n",
       "      <td>vyE1P</td>\n",
       "      <td>6.263187</td>\n",
       "      <td>-5.948386</td>\n",
       "      <td>5.001160</td>\n",
       "      <td>134.766305</td>\n",
       "    </tr>\n",
       "    <tr>\n",
       "      <th>3</th>\n",
       "      <td>KcrkZ</td>\n",
       "      <td>-13.081196</td>\n",
       "      <td>-11.506057</td>\n",
       "      <td>4.999415</td>\n",
       "      <td>137.945408</td>\n",
       "    </tr>\n",
       "    <tr>\n",
       "      <th>4</th>\n",
       "      <td>AHL4O</td>\n",
       "      <td>12.702195</td>\n",
       "      <td>-8.147433</td>\n",
       "      <td>5.004363</td>\n",
       "      <td>134.766305</td>\n",
       "    </tr>\n",
       "  </tbody>\n",
       "</table>\n",
       "</div>"
      ],
      "text/plain": [
       "      id         f0         f1        f2     product\n",
       "0  kBEdx -15.001348  -8.276000 -0.005876    3.179103\n",
       "1  62mP7  14.272088  -3.475083  0.999183   26.953261\n",
       "2  vyE1P   6.263187  -5.948386  5.001160  134.766305\n",
       "3  KcrkZ -13.081196 -11.506057  4.999415  137.945408\n",
       "4  AHL4O  12.702195  -8.147433  5.004363  134.766305"
      ]
     },
     "metadata": {},
     "output_type": "display_data"
    },
    {
     "data": {
      "text/plain": [
       "'Количество пустых ячеек:'"
      ]
     },
     "metadata": {},
     "output_type": "display_data"
    },
    {
     "data": {
      "text/plain": [
       "id         0\n",
       "f0         0\n",
       "f1         0\n",
       "f2         0\n",
       "product    0\n",
       "dtype: int64"
      ]
     },
     "metadata": {},
     "output_type": "display_data"
    },
    {
     "name": "stdout",
     "output_type": "stream",
     "text": [
      "<class 'pandas.core.frame.DataFrame'>\n",
      "RangeIndex: 100000 entries, 0 to 99999\n",
      "Data columns (total 5 columns):\n",
      " #   Column   Non-Null Count   Dtype  \n",
      "---  ------   --------------   -----  \n",
      " 0   id       100000 non-null  object \n",
      " 1   f0       100000 non-null  float64\n",
      " 2   f1       100000 non-null  float64\n",
      " 3   f2       100000 non-null  float64\n",
      " 4   product  100000 non-null  float64\n",
      "dtypes: float64(4), object(1)\n",
      "memory usage: 3.8+ MB\n"
     ]
    },
    {
     "data": {
      "text/plain": [
       "None"
      ]
     },
     "metadata": {},
     "output_type": "display_data"
    },
    {
     "data": {
      "text/plain": [
       "'Количество явных дубликатов в датасете:0'"
      ]
     },
     "metadata": {},
     "output_type": "display_data"
    },
    {
     "data": {
      "text/plain": [
       "'Анализ датафрейма gd2'"
      ]
     },
     "metadata": {},
     "output_type": "display_data"
    },
    {
     "data": {
      "text/html": [
       "<div>\n",
       "<style scoped>\n",
       "    .dataframe tbody tr th:only-of-type {\n",
       "        vertical-align: middle;\n",
       "    }\n",
       "\n",
       "    .dataframe tbody tr th {\n",
       "        vertical-align: top;\n",
       "    }\n",
       "\n",
       "    .dataframe thead th {\n",
       "        text-align: right;\n",
       "    }\n",
       "</style>\n",
       "<table border=\"1\" class=\"dataframe\">\n",
       "  <thead>\n",
       "    <tr style=\"text-align: right;\">\n",
       "      <th></th>\n",
       "      <th>id</th>\n",
       "      <th>f0</th>\n",
       "      <th>f1</th>\n",
       "      <th>f2</th>\n",
       "      <th>product</th>\n",
       "    </tr>\n",
       "  </thead>\n",
       "  <tbody>\n",
       "    <tr>\n",
       "      <th>0</th>\n",
       "      <td>fwXo0</td>\n",
       "      <td>-1.146987</td>\n",
       "      <td>0.963328</td>\n",
       "      <td>-0.828965</td>\n",
       "      <td>27.758673</td>\n",
       "    </tr>\n",
       "    <tr>\n",
       "      <th>1</th>\n",
       "      <td>WJtFt</td>\n",
       "      <td>0.262778</td>\n",
       "      <td>0.269839</td>\n",
       "      <td>-2.530187</td>\n",
       "      <td>56.069697</td>\n",
       "    </tr>\n",
       "    <tr>\n",
       "      <th>2</th>\n",
       "      <td>ovLUW</td>\n",
       "      <td>0.194587</td>\n",
       "      <td>0.289035</td>\n",
       "      <td>-5.586433</td>\n",
       "      <td>62.871910</td>\n",
       "    </tr>\n",
       "    <tr>\n",
       "      <th>3</th>\n",
       "      <td>q6cA6</td>\n",
       "      <td>2.236060</td>\n",
       "      <td>-0.553760</td>\n",
       "      <td>0.930038</td>\n",
       "      <td>114.572842</td>\n",
       "    </tr>\n",
       "    <tr>\n",
       "      <th>4</th>\n",
       "      <td>WPMUX</td>\n",
       "      <td>-0.515993</td>\n",
       "      <td>1.716266</td>\n",
       "      <td>5.899011</td>\n",
       "      <td>149.600746</td>\n",
       "    </tr>\n",
       "  </tbody>\n",
       "</table>\n",
       "</div>"
      ],
      "text/plain": [
       "      id        f0        f1        f2     product\n",
       "0  fwXo0 -1.146987  0.963328 -0.828965   27.758673\n",
       "1  WJtFt  0.262778  0.269839 -2.530187   56.069697\n",
       "2  ovLUW  0.194587  0.289035 -5.586433   62.871910\n",
       "3  q6cA6  2.236060 -0.553760  0.930038  114.572842\n",
       "4  WPMUX -0.515993  1.716266  5.899011  149.600746"
      ]
     },
     "metadata": {},
     "output_type": "display_data"
    },
    {
     "data": {
      "text/plain": [
       "'Количество пустых ячеек:'"
      ]
     },
     "metadata": {},
     "output_type": "display_data"
    },
    {
     "data": {
      "text/plain": [
       "id         0\n",
       "f0         0\n",
       "f1         0\n",
       "f2         0\n",
       "product    0\n",
       "dtype: int64"
      ]
     },
     "metadata": {},
     "output_type": "display_data"
    },
    {
     "name": "stdout",
     "output_type": "stream",
     "text": [
      "<class 'pandas.core.frame.DataFrame'>\n",
      "RangeIndex: 100000 entries, 0 to 99999\n",
      "Data columns (total 5 columns):\n",
      " #   Column   Non-Null Count   Dtype  \n",
      "---  ------   --------------   -----  \n",
      " 0   id       100000 non-null  object \n",
      " 1   f0       100000 non-null  float64\n",
      " 2   f1       100000 non-null  float64\n",
      " 3   f2       100000 non-null  float64\n",
      " 4   product  100000 non-null  float64\n",
      "dtypes: float64(4), object(1)\n",
      "memory usage: 3.8+ MB\n"
     ]
    },
    {
     "data": {
      "text/plain": [
       "None"
      ]
     },
     "metadata": {},
     "output_type": "display_data"
    },
    {
     "data": {
      "text/plain": [
       "'Количество явных дубликатов в датасете:0'"
      ]
     },
     "metadata": {},
     "output_type": "display_data"
    }
   ],
   "source": [
    "dataset_info(gd0, 'gd0')\n",
    "dataset_info(gd1, 'gd1')\n",
    "dataset_info(gd2, 'gd2')"
   ]
  },
  {
   "cell_type": "markdown",
   "id": "40ec2a98",
   "metadata": {},
   "source": [
    "### Вывод:\n",
    "по результатам загрузки трех датафреймов можно сделать вывод, что форматы ячеек не стоит изменять, явные дубликаты отсутствуют."
   ]
  },
  {
   "cell_type": "code",
   "execution_count": 5,
   "id": "b87e118a",
   "metadata": {},
   "outputs": [
    {
     "data": {
      "text/plain": [
       "'Количество явных дубликатов в датасете gd0: 0'"
      ]
     },
     "metadata": {},
     "output_type": "display_data"
    },
    {
     "data": {
      "text/plain": [
       "'Количество явных дубликатов в датасете gd1: 0'"
      ]
     },
     "metadata": {},
     "output_type": "display_data"
    },
    {
     "data": {
      "text/plain": [
       "'Количество явных дубликатов в датасете gd2: 0'"
      ]
     },
     "metadata": {},
     "output_type": "display_data"
    }
   ],
   "source": [
    "gd0['id']=gd0['id'].str.lower()\n",
    "gd1['id']=gd1['id'].str.lower()\n",
    "gd2['id']=gd2['id'].str.lower()\n",
    "\n",
    "display(f'Количество явных дубликатов в датасете gd0: {gd0.duplicated().sum()}' )\n",
    "display(f'Количество явных дубликатов в датасете gd1: {gd1.duplicated().sum()}' )\n",
    "display(f'Количество явных дубликатов в датасете gd2: {gd2.duplicated().sum()}' )"
   ]
  },
  {
   "cell_type": "markdown",
   "id": "43db97e5",
   "metadata": {},
   "source": [
    "### Вывод:\n",
    "после приведения значений столбца ID к нижнему регистру явные дубликаты не выявлены"
   ]
  },
  {
   "cell_type": "markdown",
   "id": "4b185c4f",
   "metadata": {},
   "source": [
    "## Шаг 2. Исследовательский анализ данных"
   ]
  },
  {
   "cell_type": "code",
   "execution_count": 6,
   "id": "7ff3adff",
   "metadata": {},
   "outputs": [],
   "source": [
    "def graphs(dataset,name):\n",
    "    display(f'Анализ количественных признаков датафрейма {name}')\n",
    "    display(dataset.describe())\n",
    "    for j in dataset.columns:\n",
    "        if (dataset[j].dtype!= object) and j!=\"id\":\n",
    "            fig = plt.hist(dataset[j],color = 'blue', edgecolor = 'black',bins = 50)\n",
    "            plt.xlabel(j)\n",
    "            plt.ylabel('Количество')\n",
    "            plt.title(f'Анализ столбца {j}',fontweight = \"bold\")\n",
    "            plt.show()\n",
    "            dataset.boxplot([j])\n",
    "            plt.title(f'Boxplot для  столбца {j}')\n",
    "            plt.show()"
   ]
  },
  {
   "cell_type": "code",
   "execution_count": 7,
   "id": "e274d74b",
   "metadata": {},
   "outputs": [
    {
     "data": {
      "text/plain": [
       "'Анализ количественных признаков датафрейма gd0'"
      ]
     },
     "metadata": {},
     "output_type": "display_data"
    },
    {
     "data": {
      "text/html": [
       "<div>\n",
       "<style scoped>\n",
       "    .dataframe tbody tr th:only-of-type {\n",
       "        vertical-align: middle;\n",
       "    }\n",
       "\n",
       "    .dataframe tbody tr th {\n",
       "        vertical-align: top;\n",
       "    }\n",
       "\n",
       "    .dataframe thead th {\n",
       "        text-align: right;\n",
       "    }\n",
       "</style>\n",
       "<table border=\"1\" class=\"dataframe\">\n",
       "  <thead>\n",
       "    <tr style=\"text-align: right;\">\n",
       "      <th></th>\n",
       "      <th>f0</th>\n",
       "      <th>f1</th>\n",
       "      <th>f2</th>\n",
       "      <th>product</th>\n",
       "    </tr>\n",
       "  </thead>\n",
       "  <tbody>\n",
       "    <tr>\n",
       "      <th>count</th>\n",
       "      <td>100000.000000</td>\n",
       "      <td>100000.000000</td>\n",
       "      <td>100000.000000</td>\n",
       "      <td>100000.000000</td>\n",
       "    </tr>\n",
       "    <tr>\n",
       "      <th>mean</th>\n",
       "      <td>0.500419</td>\n",
       "      <td>0.250143</td>\n",
       "      <td>2.502647</td>\n",
       "      <td>92.500000</td>\n",
       "    </tr>\n",
       "    <tr>\n",
       "      <th>std</th>\n",
       "      <td>0.871832</td>\n",
       "      <td>0.504433</td>\n",
       "      <td>3.248248</td>\n",
       "      <td>44.288691</td>\n",
       "    </tr>\n",
       "    <tr>\n",
       "      <th>min</th>\n",
       "      <td>-1.408605</td>\n",
       "      <td>-0.848218</td>\n",
       "      <td>-12.088328</td>\n",
       "      <td>0.000000</td>\n",
       "    </tr>\n",
       "    <tr>\n",
       "      <th>25%</th>\n",
       "      <td>-0.072580</td>\n",
       "      <td>-0.200881</td>\n",
       "      <td>0.287748</td>\n",
       "      <td>56.497507</td>\n",
       "    </tr>\n",
       "    <tr>\n",
       "      <th>50%</th>\n",
       "      <td>0.502360</td>\n",
       "      <td>0.250252</td>\n",
       "      <td>2.515969</td>\n",
       "      <td>91.849972</td>\n",
       "    </tr>\n",
       "    <tr>\n",
       "      <th>75%</th>\n",
       "      <td>1.073581</td>\n",
       "      <td>0.700646</td>\n",
       "      <td>4.715088</td>\n",
       "      <td>128.564089</td>\n",
       "    </tr>\n",
       "    <tr>\n",
       "      <th>max</th>\n",
       "      <td>2.362331</td>\n",
       "      <td>1.343769</td>\n",
       "      <td>16.003790</td>\n",
       "      <td>185.364347</td>\n",
       "    </tr>\n",
       "  </tbody>\n",
       "</table>\n",
       "</div>"
      ],
      "text/plain": [
       "                  f0             f1             f2        product\n",
       "count  100000.000000  100000.000000  100000.000000  100000.000000\n",
       "mean        0.500419       0.250143       2.502647      92.500000\n",
       "std         0.871832       0.504433       3.248248      44.288691\n",
       "min        -1.408605      -0.848218     -12.088328       0.000000\n",
       "25%        -0.072580      -0.200881       0.287748      56.497507\n",
       "50%         0.502360       0.250252       2.515969      91.849972\n",
       "75%         1.073581       0.700646       4.715088     128.564089\n",
       "max         2.362331       1.343769      16.003790     185.364347"
      ]
     },
     "metadata": {},
     "output_type": "display_data"
    },
    {
     "data": {
      "image/png": "[encoded data removed]",
      "text/plain": [
       "<Figure size 432x288 with 1 Axes>"
      ]
     },
     "metadata": {
      "needs_background": "light"
     },
     "output_type": "display_data"
    },
    {
     "data": {
      "image/png": "[encoded data removed]",
      "text/plain": [
       "<Figure size 432x288 with 1 Axes>"
      ]
     },
     "metadata": {
      "needs_background": "light"
     },
     "output_type": "display_data"
    },
    {
     "data": {
      "image/png": "[encoded data removed]",
      "text/plain": [
       "<Figure size 432x288 with 1 Axes>"
      ]
     },
     "metadata": {
      "needs_background": "light"
     },
     "output_type": "display_data"
    },
    {
     "data": {
      "image/png": "[encoded data removed]",
      "text/plain": [
       "<Figure size 432x288 with 1 Axes>"
      ]
     },
     "metadata": {
      "needs_background": "light"
     },
     "output_type": "display_data"
    },
    {
     "data": {
      "image/png": "[encoded data removed]",
      "text/plain": [
       "<Figure size 432x288 with 1 Axes>"
      ]
     },
     "metadata": {
      "needs_background": "light"
     },
     "output_type": "display_data"
    },
    {
     "data": {
      "image/png": "[encoded data removed]",
      "text/plain": [
       "<Figure size 432x288 with 1 Axes>"
      ]
     },
     "metadata": {
      "needs_background": "light"
     },
     "output_type": "display_data"
    },
    {
     "data": {
      "image/png": "[encoded data removed]",
      "text/plain": [
       "<Figure size 432x288 with 1 Axes>"
      ]
     },
     "metadata": {
      "needs_background": "light"
     },
     "output_type": "display_data"
    },
    {
     "data": {
      "image/png": "[encoded data removed]",
      "text/plain": [
       "<Figure size 432x288 with 1 Axes>"
      ]
     },
     "metadata": {
      "needs_background": "light"
     },
     "output_type": "display_data"
    }
   ],
   "source": [
    "graphs(gd0, 'gd0')"
   ]
  },
  {
   "cell_type": "code",
   "execution_count": 8,
   "id": "ac7a5525",
   "metadata": {},
   "outputs": [
    {
     "data": {
      "text/plain": [
       "'Анализ количественных признаков датафрейма gd1'"
      ]
     },
     "metadata": {},
     "output_type": "display_data"
    },
    {
     "data": {
      "text/html": [
       "<div>\n",
       "<style scoped>\n",
       "    .dataframe tbody tr th:only-of-type {\n",
       "        vertical-align: middle;\n",
       "    }\n",
       "\n",
       "    .dataframe tbody tr th {\n",
       "        vertical-align: top;\n",
       "    }\n",
       "\n",
       "    .dataframe thead th {\n",
       "        text-align: right;\n",
       "    }\n",
       "</style>\n",
       "<table border=\"1\" class=\"dataframe\">\n",
       "  <thead>\n",
       "    <tr style=\"text-align: right;\">\n",
       "      <th></th>\n",
       "      <th>f0</th>\n",
       "      <th>f1</th>\n",
       "      <th>f2</th>\n",
       "      <th>product</th>\n",
       "    </tr>\n",
       "  </thead>\n",
       "  <tbody>\n",
       "    <tr>\n",
       "      <th>count</th>\n",
       "      <td>100000.000000</td>\n",
       "      <td>100000.000000</td>\n",
       "      <td>100000.000000</td>\n",
       "      <td>100000.000000</td>\n",
       "    </tr>\n",
       "    <tr>\n",
       "      <th>mean</th>\n",
       "      <td>1.141296</td>\n",
       "      <td>-4.796579</td>\n",
       "      <td>2.494541</td>\n",
       "      <td>68.825000</td>\n",
       "    </tr>\n",
       "    <tr>\n",
       "      <th>std</th>\n",
       "      <td>8.965932</td>\n",
       "      <td>5.119872</td>\n",
       "      <td>1.703572</td>\n",
       "      <td>45.944423</td>\n",
       "    </tr>\n",
       "    <tr>\n",
       "      <th>min</th>\n",
       "      <td>-31.609576</td>\n",
       "      <td>-26.358598</td>\n",
       "      <td>-0.018144</td>\n",
       "      <td>0.000000</td>\n",
       "    </tr>\n",
       "    <tr>\n",
       "      <th>25%</th>\n",
       "      <td>-6.298551</td>\n",
       "      <td>-8.267985</td>\n",
       "      <td>1.000021</td>\n",
       "      <td>26.953261</td>\n",
       "    </tr>\n",
       "    <tr>\n",
       "      <th>50%</th>\n",
       "      <td>1.153055</td>\n",
       "      <td>-4.813172</td>\n",
       "      <td>2.011479</td>\n",
       "      <td>57.085625</td>\n",
       "    </tr>\n",
       "    <tr>\n",
       "      <th>75%</th>\n",
       "      <td>8.621015</td>\n",
       "      <td>-1.332816</td>\n",
       "      <td>3.999904</td>\n",
       "      <td>107.813044</td>\n",
       "    </tr>\n",
       "    <tr>\n",
       "      <th>max</th>\n",
       "      <td>29.421755</td>\n",
       "      <td>18.734063</td>\n",
       "      <td>5.019721</td>\n",
       "      <td>137.945408</td>\n",
       "    </tr>\n",
       "  </tbody>\n",
       "</table>\n",
       "</div>"
      ],
      "text/plain": [
       "                  f0             f1             f2        product\n",
       "count  100000.000000  100000.000000  100000.000000  100000.000000\n",
       "mean        1.141296      -4.796579       2.494541      68.825000\n",
       "std         8.965932       5.119872       1.703572      45.944423\n",
       "min       -31.609576     -26.358598      -0.018144       0.000000\n",
       "25%        -6.298551      -8.267985       1.000021      26.953261\n",
       "50%         1.153055      -4.813172       2.011479      57.085625\n",
       "75%         8.621015      -1.332816       3.999904     107.813044\n",
       "max        29.421755      18.734063       5.019721     137.945408"
      ]
     },
     "metadata": {},
     "output_type": "display_data"
    },
    {
     "data": {
      "image/png": "[encoded data removed]",
      "text/plain": [
       "<Figure size 432x288 with 1 Axes>"
      ]
     },
     "metadata": {
      "needs_background": "light"
     },
     "output_type": "display_data"
    },
    {
     "data": {
      "image/png": "[encoded data removed]",
      "text/plain": [
       "<Figure size 432x288 with 1 Axes>"
      ]
     },
     "metadata": {
      "needs_background": "light"
     },
     "output_type": "display_data"
    },
    {
     "data": {
      "image/png": "[encoded data removed]",
      "text/plain": [
       "<Figure size 432x288 with 1 Axes>"
      ]
     },
     "metadata": {
      "needs_background": "light"
     },
     "output_type": "display_data"
    },
    {
     "data": {
      "image/png": "[encoded data removed]",
      "text/plain": [
       "<Figure size 432x288 with 1 Axes>"
      ]
     },
     "metadata": {
      "needs_background": "light"
     },
     "output_type": "display_data"
    },
    {
     "data": {
      "image/png": "[encoded data removed]",
      "text/plain": [
       "<Figure size 432x288 with 1 Axes>"
      ]
     },
     "metadata": {
      "needs_background": "light"
     },
     "output_type": "display_data"
    },
    {
     "data": {
      "image/png": "[encoded data removed]",
      "text/plain": [
       "<Figure size 432x288 with 1 Axes>"
      ]
     },
     "metadata": {
      "needs_background": "light"
     },
     "output_type": "display_data"
    },
    {
     "data": {
      "image/png": "[encoded data removed]",
      "text/plain": [
       "<Figure size 432x288 with 1 Axes>"
      ]
     },
     "metadata": {
      "needs_background": "light"
     },
     "output_type": "display_data"
    },
    {
     "data": {
      "image/png": "[encoded data removed]",
      "text/plain": [
       "<Figure size 432x288 with 1 Axes>"
      ]
     },
     "metadata": {
      "needs_background": "light"
     },
     "output_type": "display_data"
    }
   ],
   "source": [
    "graphs(gd1, 'gd1')"
   ]
  },
  {
   "cell_type": "code",
   "execution_count": 9,
   "id": "607ca3d5",
   "metadata": {},
   "outputs": [
    {
     "data": {
      "text/plain": [
       "'Анализ количественных признаков датафрейма gd2'"
      ]
     },
     "metadata": {},
     "output_type": "display_data"
    },
    {
     "data": {
      "text/html": [
       "<div>\n",
       "<style scoped>\n",
       "    .dataframe tbody tr th:only-of-type {\n",
       "        vertical-align: middle;\n",
       "    }\n",
       "\n",
       "    .dataframe tbody tr th {\n",
       "        vertical-align: top;\n",
       "    }\n",
       "\n",
       "    .dataframe thead th {\n",
       "        text-align: right;\n",
       "    }\n",
       "</style>\n",
       "<table border=\"1\" class=\"dataframe\">\n",
       "  <thead>\n",
       "    <tr style=\"text-align: right;\">\n",
       "      <th></th>\n",
       "      <th>f0</th>\n",
       "      <th>f1</th>\n",
       "      <th>f2</th>\n",
       "      <th>product</th>\n",
       "    </tr>\n",
       "  </thead>\n",
       "  <tbody>\n",
       "    <tr>\n",
       "      <th>count</th>\n",
       "      <td>100000.000000</td>\n",
       "      <td>100000.000000</td>\n",
       "      <td>100000.000000</td>\n",
       "      <td>100000.000000</td>\n",
       "    </tr>\n",
       "    <tr>\n",
       "      <th>mean</th>\n",
       "      <td>0.002023</td>\n",
       "      <td>-0.002081</td>\n",
       "      <td>2.495128</td>\n",
       "      <td>95.000000</td>\n",
       "    </tr>\n",
       "    <tr>\n",
       "      <th>std</th>\n",
       "      <td>1.732045</td>\n",
       "      <td>1.730417</td>\n",
       "      <td>3.473445</td>\n",
       "      <td>44.749921</td>\n",
       "    </tr>\n",
       "    <tr>\n",
       "      <th>min</th>\n",
       "      <td>-8.760004</td>\n",
       "      <td>-7.084020</td>\n",
       "      <td>-11.970335</td>\n",
       "      <td>0.000000</td>\n",
       "    </tr>\n",
       "    <tr>\n",
       "      <th>25%</th>\n",
       "      <td>-1.162288</td>\n",
       "      <td>-1.174820</td>\n",
       "      <td>0.130359</td>\n",
       "      <td>59.450441</td>\n",
       "    </tr>\n",
       "    <tr>\n",
       "      <th>50%</th>\n",
       "      <td>0.009424</td>\n",
       "      <td>-0.009482</td>\n",
       "      <td>2.484236</td>\n",
       "      <td>94.925613</td>\n",
       "    </tr>\n",
       "    <tr>\n",
       "      <th>75%</th>\n",
       "      <td>1.158535</td>\n",
       "      <td>1.163678</td>\n",
       "      <td>4.858794</td>\n",
       "      <td>130.595027</td>\n",
       "    </tr>\n",
       "    <tr>\n",
       "      <th>max</th>\n",
       "      <td>7.238262</td>\n",
       "      <td>7.844801</td>\n",
       "      <td>16.739402</td>\n",
       "      <td>190.029838</td>\n",
       "    </tr>\n",
       "  </tbody>\n",
       "</table>\n",
       "</div>"
      ],
      "text/plain": [
       "                  f0             f1             f2        product\n",
       "count  100000.000000  100000.000000  100000.000000  100000.000000\n",
       "mean        0.002023      -0.002081       2.495128      95.000000\n",
       "std         1.732045       1.730417       3.473445      44.749921\n",
       "min        -8.760004      -7.084020     -11.970335       0.000000\n",
       "25%        -1.162288      -1.174820       0.130359      59.450441\n",
       "50%         0.009424      -0.009482       2.484236      94.925613\n",
       "75%         1.158535       1.163678       4.858794     130.595027\n",
       "max         7.238262       7.844801      16.739402     190.029838"
      ]
     },
     "metadata": {},
     "output_type": "display_data"
    },
    {
     "data": {
      "image/png": "[encoded data removed]",
      "text/plain": [
       "<Figure size 432x288 with 1 Axes>"
      ]
     },
     "metadata": {
      "needs_background": "light"
     },
     "output_type": "display_data"
    },
    {
     "data": {
      "image/png": "[encoded data removed]",
      "text/plain": [
       "<Figure size 432x288 with 1 Axes>"
      ]
     },
     "metadata": {
      "needs_background": "light"
     },
     "output_type": "display_data"
    },
    {
     "data": {
      "image/png": "[encoded data removed]",
      "text/plain": [
       "<Figure size 432x288 with 1 Axes>"
      ]
     },
     "metadata": {
      "needs_background": "light"
     },
     "output_type": "display_data"
    },
    {
     "data": {
      "image/png": "[encoded data removed]",
      "text/plain": [
       "<Figure size 432x288 with 1 Axes>"
      ]
     },
     "metadata": {
      "needs_background": "light"
     },
     "output_type": "display_data"
    },
    {
     "data": {
      "image/png": "[encoded data removed]",
      "text/plain": [
       "<Figure size 432x288 with 1 Axes>"
      ]
     },
     "metadata": {
      "needs_background": "light"
     },
     "output_type": "display_data"
    },
    {
     "data": {
      "image/png": "[encoded data removed]",
      "text/plain": [
       "<Figure size 432x288 with 1 Axes>"
      ]
     },
     "metadata": {
      "needs_background": "light"
     },
     "output_type": "display_data"
    },
    {
     "data": {
      "image/png": "[encoded data removed]",
      "text/plain": [
       "<Figure size 432x288 with 1 Axes>"
      ]
     },
     "metadata": {
      "needs_background": "light"
     },
     "output_type": "display_data"
    },
    {
     "data": {
      "image/png": "[encoded data removed]",
      "text/plain": [
       "<Figure size 432x288 with 1 Axes>"
      ]
     },
     "metadata": {
      "needs_background": "light"
     },
     "output_type": "display_data"
    }
   ],
   "source": [
    "graphs(gd2, 'gd2')"
   ]
  },
  {
   "cell_type": "markdown",
   "id": "32c4c3e8",
   "metadata": {},
   "source": [
    "### Вывод:\n",
    "По результатам исследовательского анализа можно сделать вывод, что выбросы отсуствуют. В трех датафреймах все данные оставим без изменений"
   ]
  },
  {
   "cell_type": "markdown",
   "id": "92a4acaa",
   "metadata": {},
   "source": [
    "## Шаг 3. Обучение и проверка модели для каждого региона"
   ]
  },
  {
   "cell_type": "code",
   "execution_count": 10,
   "id": "3a9c976b",
   "metadata": {},
   "outputs": [],
   "source": [
    "def linear_regression(data,name):\n",
    "    data=data.drop('id', axis=1)\n",
    "    RANDOM_STATE = 42\n",
    "    X = data.drop('product', axis=1)\n",
    "    y = data['product']\n",
    "    X_train, X_test, y_train, y_test = train_test_split(X,y,test_size=0.25,random_state=RANDOM_STATE)    \n",
    "\n",
    "    model_lr  = LinearRegression()\n",
    "    model_lr.fit(X_train, y_train)\n",
    "    predictions = model_lr.predict(X_test)\n",
    "\n",
    "    rmse  = np.sqrt(mean_squared_error(y_test, predictions))\n",
    "    display(f'Обучение и проверка модели для региона {name}')\n",
    "    display(f'Cредний запас сырья= {y_test.mean():.2f} тыс. баррелей')\n",
    "    display(f'Cредний запас предсказанного сырья= {predictions.mean():.2f} тыс. баррелей')\n",
    "    display(f'RMSE = {rmse:.2f}')\n",
    "    data_final=X_test\n",
    "    data_final['product_predictions']=predictions\n",
    "    data_final= data_final.merge(y, how='left', left_index=True, right_index=True).sort_values(by='product_predictions',ascending=False)\n",
    "    return data_final"
   ]
  },
  {
   "cell_type": "code",
   "execution_count": 11,
   "id": "aeccb0e4",
   "metadata": {},
   "outputs": [
    {
     "data": {
      "text/plain": [
       "'Обучение и проверка модели для региона gd0'"
      ]
     },
     "metadata": {},
     "output_type": "display_data"
    },
    {
     "data": {
      "text/plain": [
       "'Cредний запас сырья= 92.33 тыс. баррелей'"
      ]
     },
     "metadata": {},
     "output_type": "display_data"
    },
    {
     "data": {
      "text/plain": [
       "'Cредний запас предсказанного сырья= 92.40 тыс. баррелей'"
      ]
     },
     "metadata": {},
     "output_type": "display_data"
    },
    {
     "data": {
      "text/plain": [
       "'RMSE = 37.76'"
      ]
     },
     "metadata": {},
     "output_type": "display_data"
    },
    {
     "name": "stderr",
     "output_type": "stream",
     "text": [
      "/tmp/ipykernel_48/1139629469.py:18: SettingWithCopyWarning: \n",
      "A value is trying to be set on a copy of a slice from a DataFrame.\n",
      "Try using .loc[row_indexer,col_indexer] = value instead\n",
      "\n",
      "See the caveats in the documentation: https://pandas.pydata.org/pandas-docs/stable/user_guide/indexing.html#returning-a-view-versus-a-copy\n",
      "  data_final['product_predictions']=predictions\n"
     ]
    },
    {
     "data": {
      "text/plain": [
       "'Обучение и проверка модели для региона gd1'"
      ]
     },
     "metadata": {},
     "output_type": "display_data"
    },
    {
     "data": {
      "text/plain": [
       "'Cредний запас сырья= 68.73 тыс. баррелей'"
      ]
     },
     "metadata": {},
     "output_type": "display_data"
    },
    {
     "data": {
      "text/plain": [
       "'Cредний запас предсказанного сырья= 68.71 тыс. баррелей'"
      ]
     },
     "metadata": {},
     "output_type": "display_data"
    },
    {
     "data": {
      "text/plain": [
       "'RMSE = 0.89'"
      ]
     },
     "metadata": {},
     "output_type": "display_data"
    },
    {
     "name": "stderr",
     "output_type": "stream",
     "text": [
      "/tmp/ipykernel_48/1139629469.py:18: SettingWithCopyWarning: \n",
      "A value is trying to be set on a copy of a slice from a DataFrame.\n",
      "Try using .loc[row_indexer,col_indexer] = value instead\n",
      "\n",
      "See the caveats in the documentation: https://pandas.pydata.org/pandas-docs/stable/user_guide/indexing.html#returning-a-view-versus-a-copy\n",
      "  data_final['product_predictions']=predictions\n"
     ]
    },
    {
     "data": {
      "text/plain": [
       "'Обучение и проверка модели для региона gd2'"
      ]
     },
     "metadata": {},
     "output_type": "display_data"
    },
    {
     "data": {
      "text/plain": [
       "'Cредний запас сырья= 95.15 тыс. баррелей'"
      ]
     },
     "metadata": {},
     "output_type": "display_data"
    },
    {
     "data": {
      "text/plain": [
       "'Cредний запас предсказанного сырья= 94.77 тыс. баррелей'"
      ]
     },
     "metadata": {},
     "output_type": "display_data"
    },
    {
     "data": {
      "text/plain": [
       "'RMSE = 40.15'"
      ]
     },
     "metadata": {},
     "output_type": "display_data"
    },
    {
     "name": "stderr",
     "output_type": "stream",
     "text": [
      "/tmp/ipykernel_48/1139629469.py:18: SettingWithCopyWarning: \n",
      "A value is trying to be set on a copy of a slice from a DataFrame.\n",
      "Try using .loc[row_indexer,col_indexer] = value instead\n",
      "\n",
      "See the caveats in the documentation: https://pandas.pydata.org/pandas-docs/stable/user_guide/indexing.html#returning-a-view-versus-a-copy\n",
      "  data_final['product_predictions']=predictions\n"
     ]
    }
   ],
   "source": [
    "gd0_pred=linear_regression(gd0,'gd0')\n",
    "gd1_pred=linear_regression(gd1,'gd1')\n",
    "gd2_pred=linear_regression(gd2,'gd2')"
   ]
  },
  {
   "cell_type": "markdown",
   "id": "f8b9c1d3",
   "metadata": {},
   "source": [
    "### Вывод\n",
    "по результатам обучения модели на данных из трех регионов, можно сделать вывод о том, что для региона 1 RMSE составил 0,89, но ошибка для двух других составляет 37,76 (регион 0) и 40,15 (регион 2) соответсвенно. Высокие показатели ошибки могут свидетельствовать о некорректности предсказаний модели"
   ]
  },
  {
   "cell_type": "markdown",
   "id": "34ac7650",
   "metadata": {},
   "source": [
    "## Шаг 4. Расчет прибыли"
   ]
  },
  {
   "cell_type": "code",
   "execution_count": 12,
   "id": "d2a7e153",
   "metadata": {},
   "outputs": [],
   "source": [
    "PRICE=450*pow(10,3)\n",
    "N_SKV=500\n",
    "N_BEST_SKV=200\n",
    "BUDGET=10*pow(10,9)\n"
   ]
  },
  {
   "cell_type": "code",
   "execution_count": 13,
   "id": "e32d40dd",
   "metadata": {},
   "outputs": [
    {
     "data": {
      "text/plain": [
       "'Достаточный объём сырья для безубыточной разработки новой скважины: 111.11 тыс.баррелей'"
      ]
     },
     "metadata": {},
     "output_type": "display_data"
    },
    {
     "data": {
      "text/plain": [
       "'Средний запас в регионе 0: 92.50 тыс. баррелей'"
      ]
     },
     "metadata": {},
     "output_type": "display_data"
    },
    {
     "data": {
      "text/plain": [
       "'Процент скажин в регионе 0 с объемом сырья ниже достаточного: 63.417 %'"
      ]
     },
     "metadata": {},
     "output_type": "display_data"
    },
    {
     "data": {
      "text/plain": [
       "'Средний запас в регионе 1: 68.83 тыс. баррелей'"
      ]
     },
     "metadata": {},
     "output_type": "display_data"
    },
    {
     "data": {
      "text/plain": [
       "'Процент скажин в регионе 0 с объемом сырья ниже достаточного: 83.463 %'"
      ]
     },
     "metadata": {},
     "output_type": "display_data"
    },
    {
     "data": {
      "text/plain": [
       "'Средний запас в регионе 2: 95.00 тыс. баррелей'"
      ]
     },
     "metadata": {},
     "output_type": "display_data"
    },
    {
     "data": {
      "text/plain": [
       "'Процент скажин в регионе 0 с объемом сырья ниже достаточного: 61.822 %'"
      ]
     },
     "metadata": {},
     "output_type": "display_data"
    }
   ],
   "source": [
    "oil_volume=BUDGET/(PRICE*N_BEST_SKV)\n",
    "display(f'Достаточный объём сырья для безубыточной разработки новой скважины: {oil_volume:.2f} тыс.баррелей')\n",
    "\n",
    "display(f'Средний запас в регионе 0: {gd0[\"product\"].mean():.2f} тыс. баррелей')\n",
    "display(f'Процент скажин в регионе 0 с объемом сырья ниже достаточного: {gd0[\"product\"].apply(lambda x: x < oil_volume).sum() / len(gd0)*100} %')\n",
    "\n",
    "display(f'Средний запас в регионе 1: {gd1[\"product\"].mean():.2f} тыс. баррелей')\n",
    "display(f'Процент скажин в регионе 0 с объемом сырья ниже достаточного: {gd1[\"product\"].apply(lambda x: x < oil_volume).sum() / len(gd1)*100} %')\n",
    "\n",
    "display(f'Средний запас в регионе 2: {gd2[\"product\"].mean():.2f} тыс. баррелей')\n",
    "display(f'Процент скажин в регионе 0 с объемом сырья ниже достаточного: {gd2[\"product\"].apply(lambda x: x < oil_volume).sum() / len(gd2)*100} %')\n"
   ]
  },
  {
   "cell_type": "markdown",
   "id": "eff52f3e",
   "metadata": {},
   "source": [
    "### Вывод\n",
    "Достаточный объём сырья для безубыточной разработки новой скважины: 111.11 тыс.баррелей\n",
    "Процент скажин в регионе 0 с объемом сырья ниже достаточного: 63.417 %\n",
    "Процент скажин в регионе 0 с объемом сырья ниже достаточного: 83.463 %\n",
    "Процент скажин в регионе 0 с объемом сырья ниже достаточного: 61.822 %\n",
    "Более 60 % скважин во всех регионах убыточные"
   ]
  },
  {
   "cell_type": "code",
   "execution_count": 14,
   "id": "ac61ee1a",
   "metadata": {},
   "outputs": [],
   "source": [
    "def profit(target, predicted,n_sk):\n",
    "    pred_ind = predicted.sort_values(ascending=False).index\n",
    "    return (target[pred_ind][:n_sk].sum() * PRICE - BUDGET)/pow(10,9)"
   ]
  },
  {
   "cell_type": "code",
   "execution_count": 15,
   "id": "87359a65",
   "metadata": {},
   "outputs": [
    {
     "data": {
      "text/plain": [
       "'Объём сырья в регионе 0: 30.88 млн. баррелей'"
      ]
     },
     "metadata": {},
     "output_type": "display_data"
    },
    {
     "data": {
      "text/plain": [
       "'Валовая прибыль в регионе 0: 3.36 млрд. рублей'"
      ]
     },
     "metadata": {},
     "output_type": "display_data"
    },
    {
     "data": {
      "text/plain": [
       "'Объём сырья в регионе 1: 27.75 млн. баррелей'"
      ]
     },
     "metadata": {},
     "output_type": "display_data"
    },
    {
     "data": {
      "text/plain": [
       "'Валовая прибыль в регионе 1: 2.42 млрд. рублей'"
      ]
     },
     "metadata": {},
     "output_type": "display_data"
    },
    {
     "data": {
      "text/plain": [
       "'Объём сырья в регионе 2: 29.73 млн. баррелей'"
      ]
     },
     "metadata": {},
     "output_type": "display_data"
    },
    {
     "data": {
      "text/plain": [
       "'Валовая прибыль в регионе 2: 2.60 млрд. рублей'"
      ]
     },
     "metadata": {},
     "output_type": "display_data"
    }
   ],
   "source": [
    "display(f'Объём сырья в регионе 0: {gd0_pred[\"product_predictions\"].head(200).sum()/pow(10,3):.2f} млн. баррелей')\n",
    "display(f'Валовая прибыль в регионе 0: {profit(gd0_pred[\"product\"],gd0_pred[\"product_predictions\"],N_BEST_SKV):.2f} млрд. рублей')\n",
    "\n",
    "display(f'Объём сырья в регионе 1: {gd1_pred[\"product_predictions\"].head(200).sum()/pow(10,3):.2f} млн. баррелей')\n",
    "display(f'Валовая прибыль в регионе 1: {profit(gd1_pred[\"product\"],gd1_pred[\"product_predictions\"],N_BEST_SKV):.2f} млрд. рублей')\n",
    "\n",
    "display(f'Объём сырья в регионе 2: {gd2_pred[\"product_predictions\"].head(200).sum()/pow(10,3):.2f} млн. баррелей')\n",
    "display(f'Валовая прибыль в регионе 2: {profit(gd2_pred[\"product\"],gd2_pred[\"product_predictions\"],N_BEST_SKV):.2f} млрд. рублей')"
   ]
  },
  {
   "cell_type": "markdown",
   "id": "08b32ea2",
   "metadata": {},
   "source": [
    "### Вывод\n",
    "Наибольший объем предсказанного сырья в регионе 0: 30.88 млн. баррелей"
   ]
  },
  {
   "cell_type": "markdown",
   "id": "503eedf1",
   "metadata": {},
   "source": [
    "## Шаг 5. Расчет рисков и прибыли для каждого региона"
   ]
  },
  {
   "cell_type": "code",
   "execution_count": 16,
   "id": "92d61a1b",
   "metadata": {},
   "outputs": [],
   "source": [
    "def bootstrap(data,region):\n",
    "    state = np.random.RandomState(890)\n",
    "    probabilities=data['product_predictions']\n",
    "    target=data['product']\n",
    "    values = []\n",
    "    for i in range(1000):\n",
    "        target_subsample = target.sample(n=N_SKV,replace=True,random_state=state)\n",
    "        probs_subsample = probabilities[target_subsample.index]\n",
    "        values.append(profit(target_subsample, probs_subsample,N_BEST_SKV))\n",
    "        \n",
    "    values = pd.Series(values)\n",
    "    lower = values.quantile(0.025) \n",
    "    upper = values.quantile(0.975)\n",
    "    mean = values.mean()\n",
    "    risk =  values.apply(lambda x: x < 0).sum() / len(values)*100\n",
    "    \n",
    "    values.hist(figsize=(16, 5), bins=50)\n",
    "    plt.axvline(values.quantile(0.025))\n",
    "    plt.axvline(values.quantile(0.975))\n",
    "    plt.xlabel('Прибыль, руб.')\n",
    "    plt.ylabel('Количество скважин')\n",
    "    plt.title(f'Распределение прибыли для региона {region}')\n",
    "    plt.show()\n",
    "    \n",
    "    display(f'Средняя прибыль {mean:.2f} млрд.рублей')\n",
    "    display(f'Нижняя граница 95 % доверительного интервала {lower:.2f} млрд.рублей')\n",
    "    display(f'Верхняя граница 95 % доверительного интервала {upper:.2f} млрд.рублей')\n",
    "    display(f'Риск убытков {risk:.2f} %')\n"
   ]
  },
  {
   "cell_type": "code",
   "execution_count": 17,
   "id": "ab59c8e3",
   "metadata": {},
   "outputs": [
    {
     "data": {
      "image/png": "[encoded data removed]",
      "text/plain": [
       "<Figure size 1152x360 with 1 Axes>"
      ]
     },
     "metadata": {
      "needs_background": "light"
     },
     "output_type": "display_data"
    },
    {
     "data": {
      "text/plain": [
       "'Средняя прибыль 0.42 млрд.рублей'"
      ]
     },
     "metadata": {},
     "output_type": "display_data"
    },
    {
     "data": {
      "text/plain": [
       "'Нижняя граница 95 % доверительного интервала -0.15 млрд.рублей'"
      ]
     },
     "metadata": {},
     "output_type": "display_data"
    },
    {
     "data": {
      "text/plain": [
       "'Верхняя граница 95 % доверительного интервала 0.96 млрд.рублей'"
      ]
     },
     "metadata": {},
     "output_type": "display_data"
    },
    {
     "data": {
      "text/plain": [
       "'Риск убытков 5.30 %'"
      ]
     },
     "metadata": {},
     "output_type": "display_data"
    },
    {
     "data": {
      "image/png": "[encoded data removed]",
      "text/plain": [
       "<Figure size 1152x360 with 1 Axes>"
      ]
     },
     "metadata": {
      "needs_background": "light"
     },
     "output_type": "display_data"
    },
    {
     "data": {
      "text/plain": [
       "'Средняя прибыль 0.51 млрд.рублей'"
      ]
     },
     "metadata": {},
     "output_type": "display_data"
    },
    {
     "data": {
      "text/plain": [
       "'Нижняя граница 95 % доверительного интервала 0.05 млрд.рублей'"
      ]
     },
     "metadata": {},
     "output_type": "display_data"
    },
    {
     "data": {
      "text/plain": [
       "'Верхняя граница 95 % доверительного интервала 0.96 млрд.рублей'"
      ]
     },
     "metadata": {},
     "output_type": "display_data"
    },
    {
     "data": {
      "text/plain": [
       "'Риск убытков 1.40 %'"
      ]
     },
     "metadata": {},
     "output_type": "display_data"
    },
    {
     "data": {
      "image/png": "[encoded data removed]",
      "text/plain": [
       "<Figure size 1152x360 with 1 Axes>"
      ]
     },
     "metadata": {
      "needs_background": "light"
     },
     "output_type": "display_data"
    },
    {
     "data": {
      "text/plain": [
       "'Средняя прибыль 0.42 млрд.рублей'"
      ]
     },
     "metadata": {},
     "output_type": "display_data"
    },
    {
     "data": {
      "text/plain": [
       "'Нижняя граница 95 % доверительного интервала -0.14 млрд.рублей'"
      ]
     },
     "metadata": {},
     "output_type": "display_data"
    },
    {
     "data": {
      "text/plain": [
       "'Верхняя граница 95 % доверительного интервала 0.94 млрд.рублей'"
      ]
     },
     "metadata": {},
     "output_type": "display_data"
    },
    {
     "data": {
      "text/plain": [
       "'Риск убытков 7.30 %'"
      ]
     },
     "metadata": {},
     "output_type": "display_data"
    }
   ],
   "source": [
    "bootstrap(gd0_pred,'0')\n",
    "bootstrap(gd1_pred,'1')\n",
    "bootstrap(gd2_pred,'2') "
   ]
  },
  {
   "cell_type": "markdown",
   "id": "80e21870",
   "metadata": {},
   "source": [
    "### Вывод\n",
    "Средняя прибыль для 200 скважин 0.42 млрд.рублей, 0.51 млрд.рублей,0.42 млрд.рублей для регионов 0,1,2 соответсвенно. Стоит рекомендовать регион 1 для разработки (также риск убытков 1,4%, что менее требуемых 2,5%)"
   ]
  },
  {
   "cell_type": "markdown",
   "id": "cbcd31a5",
   "metadata": {},
   "source": [
    "# Общие выводы:\n",
    "\n",
    "По результатам загрузки трех датафреймов можно сделать вывод, что форматы ячеек не стоит изменять, явные дубликаты отсутствуют.\n",
    "\n",
    "После приведения значений столбца ID к нижнему регистру явные дубликаты не выявлены\n",
    "\n",
    "По результатам исследовательского анализа можно сделать вывод, что выбросы отсуствуют. В трех датафреймах все данные оставим без изменений\n",
    "\n",
    "По результатам обучения модели на данных из трех регионов, можно сделать вывод о том, что для региона 1 RMSE составил 0,89, но ошибка для двух других составляет 37,76 (регион 0) и 40,15 (регион 2) соответсвенно. Высокие показатели ошибки могут свидетельствовать о некорректности предсказаний модели\n",
    "\n",
    "Достаточный объём сырья для безубыточной разработки новой скважины: 111.11 тыс.баррелей\n",
    "Процент скажин в регионе 0 с объемом сырья ниже достаточного: 63.417 %\n",
    "Процент скажин в регионе 0 с объемом сырья ниже достаточного: 83.463 %\n",
    "Процент скажин в регионе 0 с объемом сырья ниже достаточного: 61.822 %\n",
    "Более 60 % скважин во всех регионах убыточные\n",
    "\n",
    "Наибольший объем предсказанного сырья в регионе 0: 30.88 млн. баррелей\n",
    "\n",
    "Средняя прибыль для 200 скважин 0.42 млрд.рублей, 0.51 млрд.рублей,0.42 млрд.рублей для регионов 0,1,2 соответсвенно. Стоит рекомендовать регион 1 для разработки (также риск убытков 1,4%, что менее требуемых 2,5%)"
   ]
  }
 ],
 "metadata": {
  "ExecuteTimeLog": [
   {
    "duration": 53,
    "start_time": "2024-06-05T07:31:44.189Z"
   },
   {
    "duration": 4439,
    "start_time": "2024-06-05T07:31:55.976Z"
   },
   {
    "duration": 1286,
    "start_time": "2024-06-05T07:32:00.417Z"
   },
   {
    "duration": 5,
    "start_time": "2024-06-05T07:32:01.705Z"
   },
   {
    "duration": 967,
    "start_time": "2024-06-05T07:32:01.712Z"
   },
   {
    "duration": 249,
    "start_time": "2024-06-05T07:32:02.681Z"
   },
   {
    "duration": 103,
    "start_time": "2024-06-05T07:32:02.932Z"
   },
   {
    "duration": 1772,
    "start_time": "2024-06-05T07:32:03.037Z"
   },
   {
    "duration": 1651,
    "start_time": "2024-06-05T07:32:04.811Z"
   },
   {
    "duration": 1748,
    "start_time": "2024-06-05T07:32:06.464Z"
   },
   {
    "duration": 6,
    "start_time": "2024-06-05T07:32:08.215Z"
   },
   {
    "duration": 529,
    "start_time": "2024-06-05T07:32:08.223Z"
   },
   {
    "duration": 88,
    "start_time": "2024-06-05T07:32:08.758Z"
   },
   {
    "duration": 117,
    "start_time": "2024-06-05T07:32:08.848Z"
   },
   {
    "duration": 10,
    "start_time": "2024-06-05T07:32:08.968Z"
   },
   {
    "duration": 18,
    "start_time": "2024-06-05T07:32:08.981Z"
   },
   {
    "duration": 9,
    "start_time": "2024-06-05T07:32:09.001Z"
   },
   {
    "duration": 3264,
    "start_time": "2024-06-05T07:32:09.012Z"
   },
   {
    "duration": 61,
    "start_time": "2024-06-05T07:32:12.278Z"
   },
   {
    "duration": 17,
    "start_time": "2024-06-05T07:32:22.107Z"
   },
   {
    "duration": 1434,
    "start_time": "2024-06-05T09:56:27.536Z"
   },
   {
    "duration": 943,
    "start_time": "2024-06-05T09:56:28.972Z"
   },
   {
    "duration": 3,
    "start_time": "2024-06-05T09:56:29.917Z"
   },
   {
    "duration": 208,
    "start_time": "2024-06-05T09:56:29.921Z"
   },
   {
    "duration": 200,
    "start_time": "2024-06-05T09:56:30.130Z"
   },
   {
    "duration": 4,
    "start_time": "2024-06-05T09:56:30.331Z"
   },
   {
    "duration": 1553,
    "start_time": "2024-06-05T09:56:30.336Z"
   },
   {
    "duration": 1371,
    "start_time": "2024-06-05T09:56:31.891Z"
   },
   {
    "duration": 1436,
    "start_time": "2024-06-05T09:56:33.264Z"
   },
   {
    "duration": 5,
    "start_time": "2024-06-05T09:56:34.702Z"
   },
   {
    "duration": 464,
    "start_time": "2024-06-05T09:56:34.708Z"
   },
   {
    "duration": 4,
    "start_time": "2024-06-05T09:56:35.173Z"
   },
   {
    "duration": 155,
    "start_time": "2024-06-05T09:56:35.178Z"
   },
   {
    "duration": 3,
    "start_time": "2024-06-05T09:56:35.337Z"
   },
   {
    "duration": 116,
    "start_time": "2024-06-05T09:56:35.341Z"
   },
   {
    "duration": 49,
    "start_time": "2024-06-05T09:56:35.459Z"
   },
   {
    "duration": 2828,
    "start_time": "2024-06-05T09:56:35.510Z"
   },
   {
    "duration": 1418,
    "start_time": "2024-06-06T03:54:33.585Z"
   },
   {
    "duration": 1469,
    "start_time": "2024-06-06T03:54:35.005Z"
   },
   {
    "duration": 3,
    "start_time": "2024-06-06T03:54:36.476Z"
   },
   {
    "duration": 195,
    "start_time": "2024-06-06T03:54:36.480Z"
   },
   {
    "duration": 187,
    "start_time": "2024-06-06T03:54:36.677Z"
   },
   {
    "duration": 4,
    "start_time": "2024-06-06T03:54:36.865Z"
   },
   {
    "duration": 1335,
    "start_time": "2024-06-06T03:54:36.870Z"
   },
   {
    "duration": 1220,
    "start_time": "2024-06-06T03:54:38.209Z"
   },
   {
    "duration": 1370,
    "start_time": "2024-06-06T03:54:39.431Z"
   },
   {
    "duration": 9,
    "start_time": "2024-06-06T03:54:40.803Z"
   },
   {
    "duration": 496,
    "start_time": "2024-06-06T03:54:40.814Z"
   },
   {
    "duration": 3,
    "start_time": "2024-06-06T03:54:41.311Z"
   },
   {
    "duration": 163,
    "start_time": "2024-06-06T03:54:41.316Z"
   },
   {
    "duration": 2,
    "start_time": "2024-06-06T03:54:41.481Z"
   },
   {
    "duration": 32,
    "start_time": "2024-06-06T03:54:41.484Z"
   },
   {
    "duration": 8,
    "start_time": "2024-06-06T03:54:41.518Z"
   },
   {
    "duration": 4182,
    "start_time": "2024-06-06T03:54:41.527Z"
   }
  ],
  "kernelspec": {
   "display_name": "Python 3 (ipykernel)",
   "language": "python",
   "name": "python3"
  },
  "language_info": {
   "codemirror_mode": {
    "name": "ipython",
    "version": 3
   },
   "file_extension": ".py",
   "mimetype": "text/x-python",
   "name": "python",
   "nbconvert_exporter": "python",
   "pygments_lexer": "ipython3",
   "version": "3.11.5"
  },
  "toc": {
   "base_numbering": 1,
   "nav_menu": {},
   "number_sections": true,
   "sideBar": true,
   "skip_h1_title": true,
   "title_cell": "Table of Contents",
   "title_sidebar": "Contents",
   "toc_cell": false,
   "toc_position": {},
   "toc_section_display": true,
   "toc_window_display": false
  }
 },
 "nbformat": 4,
 "nbformat_minor": 5
}
